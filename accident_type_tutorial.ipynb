{
  "nbformat": 4,
  "nbformat_minor": 0,
  "metadata": {
    "colab": {
      "name": "Untitled0.ipynb",
      "provenance": [],
      "include_colab_link": true
    },
    "kernelspec": {
      "name": "python3",
      "display_name": "Python 3"
    },
    "language_info": {
      "name": "python"
    }
  },
  "cells": [
    {
      "cell_type": "markdown",
      "metadata": {
        "id": "view-in-github",
        "colab_type": "text"
      },
      "source": [
        "<a href=\"https://colab.research.google.com/github/wendyunji/Git-Tutorial/blob/master/accident_type_tutorial.ipynb\" target=\"_parent\"><img src=\"https://colab.research.google.com/assets/colab-badge.svg\" alt=\"Open In Colab\"/></a>"
      ]
    },
    {
      "cell_type": "code",
      "metadata": {
        "colab": {
          "resources": {
            "http://localhost:8080/nbextensions/google.colab/files.js": {
              "data": "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",
              "ok": true,
              "headers": [
                [
                  "content-type",
                  "application/javascript"
                ]
              ],
              "status": 200,
              "status_text": ""
            }
          },
          "base_uri": "https://localhost:8080/",
          "height": 76
        },
        "id": "ittSugz7H2h7",
        "outputId": "70f122db-069b-4cb6-d28e-77e36ff128e0"
      },
      "source": [
        "#파일 직접 업로드하기\n",
        "from google.colab import files\n",
        "myfile = files.upload()"
      ],
      "execution_count": null,
      "outputs": [
        {
          "output_type": "display_data",
          "data": {
            "text/html": [
              "\n",
              "     <input type=\"file\" id=\"files-d6457db7-6a6e-4067-8235-2d3680549d1e\" name=\"files[]\" multiple disabled\n",
              "        style=\"border:none\" />\n",
              "     <output id=\"result-d6457db7-6a6e-4067-8235-2d3680549d1e\">\n",
              "      Upload widget is only available when the cell has been executed in the\n",
              "      current browser session. Please rerun this cell to enable.\n",
              "      </output>\n",
              "      <script src=\"/nbextensions/google.colab/files.js\"></script> "
            ],
            "text/plain": [
              "<IPython.core.display.HTML object>"
            ]
          },
          "metadata": {
            "tags": []
          }
        },
        {
          "output_type": "stream",
          "text": [
            "Saving accident_dataset.csv to accident_dataset.csv\n"
          ],
          "name": "stdout"
        }
      ]
    },
    {
      "cell_type": "code",
      "metadata": {
        "colab": {
          "base_uri": "https://localhost:8080/",
          "height": 1000
        },
        "id": "PGND7owqJ7gh",
        "outputId": "a1717f41-8ed4-4070-b8bc-3a6f730ea130"
      },
      "source": [
        "data = pd.read_csv(io.BytesIO(myfile['accident_dataset.csv']),encoding= 'CP949')\n",
        "data.head()"
      ],
      "execution_count": null,
      "outputs": [
        {
          "output_type": "execute_result",
          "data": {
            "text/html": [
              "<div>\n",
              "<style scoped>\n",
              "    .dataframe tbody tr th:only-of-type {\n",
              "        vertical-align: middle;\n",
              "    }\n",
              "\n",
              "    .dataframe tbody tr th {\n",
              "        vertical-align: top;\n",
              "    }\n",
              "\n",
              "    .dataframe thead th {\n",
              "        text-align: right;\n",
              "    }\n",
              "</style>\n",
              "<table border=\"1\" class=\"dataframe\">\n",
              "  <thead>\n",
              "    <tr style=\"text-align: right;\">\n",
              "      <th></th>\n",
              "      <th>사건번호</th>\n",
              "      <th>사건명</th>\n",
              "      <th>해양사고종류(통계용)</th>\n",
              "      <th>해양사고발생(년도)</th>\n",
              "      <th>해양사고발생(월)</th>\n",
              "      <th>해양사고발생(일)</th>\n",
              "      <th>해양사고발생(시)</th>\n",
              "      <th>해양사고발생(분)</th>\n",
              "      <th>해양사고발생시간대</th>\n",
              "      <th>계절</th>\n",
              "      <th>해양사고장소(위)</th>\n",
              "      <th>해양사고장소(위도)</th>\n",
              "      <th>해양사고장소(위분)</th>\n",
              "      <th>해양사고장소(위초)</th>\n",
              "      <th>해양사고장소(경)</th>\n",
              "      <th>해양사고장소(경도)</th>\n",
              "      <th>해양사고장소(경분)</th>\n",
              "      <th>해양사고장소(경초)</th>\n",
              "      <th>해양사고발생지역(대)</th>\n",
              "      <th>해양사고발생지역(중)</th>\n",
              "      <th>해양사고발생지역(통계용)</th>\n",
              "      <th>선박명</th>\n",
              "      <th>선박중요도</th>\n",
              "      <th>선박톤수</th>\n",
              "      <th>톤수범위(통계용)</th>\n",
              "      <th>선박용도(통계용)</th>\n",
              "      <th>사망합계(선원+여객+기타)</th>\n",
              "      <th>실종합계(선원+여객+기타)</th>\n",
              "      <th>인명피해합계(사망+실종)</th>\n",
              "      <th>부상합계(선원+여객+기타)</th>\n",
              "      <th>총합(사망+실종+부상)</th>\n",
              "    </tr>\n",
              "  </thead>\n",
              "  <tbody>\n",
              "    <tr>\n",
              "      <th>0</th>\n",
              "      <td>IC-2016-0189</td>\n",
              "      <td>레저보트 거북호 침수사건</td>\n",
              "      <td>침수</td>\n",
              "      <td>2016</td>\n",
              "      <td>5</td>\n",
              "      <td>12</td>\n",
              "      <td>15</td>\n",
              "      <td>20</td>\n",
              "      <td>12-16시</td>\n",
              "      <td>봄</td>\n",
              "      <td>북</td>\n",
              "      <td>NN36</td>\n",
              "      <td>41</td>\n",
              "      <td>0</td>\n",
              "      <td>동</td>\n",
              "      <td>동E126</td>\n",
              "      <td>7</td>\n",
              "      <td>0</td>\n",
              "      <td>국내</td>\n",
              "      <td>서해영해</td>\n",
              "      <td>서해영해</td>\n",
              "      <td>거북호</td>\n",
              "      <td>1</td>\n",
              "      <td>0.0</td>\n",
              "      <td>미상</td>\n",
              "      <td>수상레저기구</td>\n",
              "      <td>0</td>\n",
              "      <td>0</td>\n",
              "      <td>0</td>\n",
              "      <td>0</td>\n",
              "      <td>0</td>\n",
              "    </tr>\n",
              "    <tr>\n",
              "      <th>1</th>\n",
              "      <td>IC-2016-0116</td>\n",
              "      <td>어선 제212영남호, 중국어선 선명미상 충돌사건</td>\n",
              "      <td>충돌</td>\n",
              "      <td>2016</td>\n",
              "      <td>3</td>\n",
              "      <td>22</td>\n",
              "      <td>0</td>\n",
              "      <td>0</td>\n",
              "      <td>0-4시</td>\n",
              "      <td>봄</td>\n",
              "      <td>북</td>\n",
              "      <td>NN30</td>\n",
              "      <td>51</td>\n",
              "      <td>0</td>\n",
              "      <td>동</td>\n",
              "      <td>동E126</td>\n",
              "      <td>58</td>\n",
              "      <td>0</td>\n",
              "      <td>국외</td>\n",
              "      <td>기타</td>\n",
              "      <td>기타</td>\n",
              "      <td>선명미상</td>\n",
              "      <td>2</td>\n",
              "      <td>0.0</td>\n",
              "      <td>미상</td>\n",
              "      <td>어선</td>\n",
              "      <td>0</td>\n",
              "      <td>0</td>\n",
              "      <td>0</td>\n",
              "      <td>0</td>\n",
              "      <td>0</td>\n",
              "    </tr>\n",
              "    <tr>\n",
              "      <th>2</th>\n",
              "      <td>MP-2017-0015</td>\n",
              "      <td>어선 만성호 무등록선박 예천호 충돌사건</td>\n",
              "      <td>충돌</td>\n",
              "      <td>2016</td>\n",
              "      <td>11</td>\n",
              "      <td>12</td>\n",
              "      <td>20</td>\n",
              "      <td>54</td>\n",
              "      <td>20-24시</td>\n",
              "      <td>가을</td>\n",
              "      <td>북</td>\n",
              "      <td>NN34</td>\n",
              "      <td>53</td>\n",
              "      <td>6</td>\n",
              "      <td>동</td>\n",
              "      <td>동E126</td>\n",
              "      <td>23</td>\n",
              "      <td>13</td>\n",
              "      <td>국내</td>\n",
              "      <td>서해영해</td>\n",
              "      <td>서해영해</td>\n",
              "      <td>예천호</td>\n",
              "      <td>2</td>\n",
              "      <td>0.0</td>\n",
              "      <td>미상</td>\n",
              "      <td>어선</td>\n",
              "      <td>0</td>\n",
              "      <td>0</td>\n",
              "      <td>0</td>\n",
              "      <td>0</td>\n",
              "      <td>0</td>\n",
              "    </tr>\n",
              "    <tr>\n",
              "      <th>3</th>\n",
              "      <td>IC-2017-0182</td>\n",
              "      <td>어선 선명무 운항저해사건</td>\n",
              "      <td>운항저해</td>\n",
              "      <td>2017</td>\n",
              "      <td>5</td>\n",
              "      <td>1</td>\n",
              "      <td>6</td>\n",
              "      <td>28</td>\n",
              "      <td>4-8시</td>\n",
              "      <td>봄</td>\n",
              "      <td>북</td>\n",
              "      <td>NN37</td>\n",
              "      <td>6</td>\n",
              "      <td>15</td>\n",
              "      <td>동</td>\n",
              "      <td>동E126</td>\n",
              "      <td>40</td>\n",
              "      <td>48</td>\n",
              "      <td>국내</td>\n",
              "      <td>서해영해</td>\n",
              "      <td>서해영해</td>\n",
              "      <td>선명무</td>\n",
              "      <td>1</td>\n",
              "      <td>0.0</td>\n",
              "      <td>미상</td>\n",
              "      <td>어선</td>\n",
              "      <td>0</td>\n",
              "      <td>0</td>\n",
              "      <td>0</td>\n",
              "      <td>0</td>\n",
              "      <td>0</td>\n",
              "    </tr>\n",
              "    <tr>\n",
              "      <th>4</th>\n",
              "      <td>IC-2016-0222</td>\n",
              "      <td>레저보트 서해킹호 기관손상사건</td>\n",
              "      <td>기관손상</td>\n",
              "      <td>2016</td>\n",
              "      <td>5</td>\n",
              "      <td>22</td>\n",
              "      <td>18</td>\n",
              "      <td>12</td>\n",
              "      <td>16-20시</td>\n",
              "      <td>봄</td>\n",
              "      <td>북</td>\n",
              "      <td>NN36</td>\n",
              "      <td>24</td>\n",
              "      <td>40</td>\n",
              "      <td>동</td>\n",
              "      <td>동E126</td>\n",
              "      <td>21</td>\n",
              "      <td>18</td>\n",
              "      <td>국내</td>\n",
              "      <td>서해영해</td>\n",
              "      <td>서해영해</td>\n",
              "      <td>서해킹호</td>\n",
              "      <td>1</td>\n",
              "      <td>0.0</td>\n",
              "      <td>미상</td>\n",
              "      <td>수상레저기구</td>\n",
              "      <td>0</td>\n",
              "      <td>0</td>\n",
              "      <td>0</td>\n",
              "      <td>0</td>\n",
              "      <td>0</td>\n",
              "    </tr>\n",
              "  </tbody>\n",
              "</table>\n",
              "</div>"
            ],
            "text/plain": [
              "           사건번호                         사건명  ... 부상합계(선원+여객+기타)  총합(사망+실종+부상)\n",
              "0  IC-2016-0189               레저보트 거북호 침수사건  ...              0             0\n",
              "1  IC-2016-0116  어선 제212영남호, 중국어선 선명미상 충돌사건  ...              0             0\n",
              "2  MP-2017-0015       어선 만성호 무등록선박 예천호 충돌사건  ...              0             0\n",
              "3  IC-2017-0182               어선 선명무 운항저해사건  ...              0             0\n",
              "4  IC-2016-0222            레저보트 서해킹호 기관손상사건  ...              0             0\n",
              "\n",
              "[5 rows x 31 columns]"
            ]
          },
          "metadata": {
            "tags": []
          },
          "execution_count": 37
        }
      ]
    },
    {
      "cell_type": "code",
      "metadata": {
        "id": "qzKBd_HtKRF-"
      },
      "source": [
        "data = data[['해양사고종류(통계용)','해양사고발생(월)','해양사고발생시간대','해양사고발생지역(통계용)','톤수범위(통계용)','선박용도(통계용)','사건명']]"
      ],
      "execution_count": null,
      "outputs": []
    },
    {
      "cell_type": "code",
      "metadata": {
        "colab": {
          "base_uri": "https://localhost:8080/",
          "height": 289
        },
        "id": "9RJ_yOIuNJX9",
        "outputId": "d94fb911-19e8-4992-e4d1-c487d5a9fd64"
      },
      "source": [
        "data['rate'] = 1\n",
        "data.head()"
      ],
      "execution_count": null,
      "outputs": [
        {
          "output_type": "execute_result",
          "data": {
            "text/html": [
              "<div>\n",
              "<style scoped>\n",
              "    .dataframe tbody tr th:only-of-type {\n",
              "        vertical-align: middle;\n",
              "    }\n",
              "\n",
              "    .dataframe tbody tr th {\n",
              "        vertical-align: top;\n",
              "    }\n",
              "\n",
              "    .dataframe thead th {\n",
              "        text-align: right;\n",
              "    }\n",
              "</style>\n",
              "<table border=\"1\" class=\"dataframe\">\n",
              "  <thead>\n",
              "    <tr style=\"text-align: right;\">\n",
              "      <th></th>\n",
              "      <th>해양사고종류(통계용)</th>\n",
              "      <th>해양사고발생(월)</th>\n",
              "      <th>해양사고발생시간대</th>\n",
              "      <th>해양사고발생지역(통계용)</th>\n",
              "      <th>톤수범위(통계용)</th>\n",
              "      <th>선박용도(통계용)</th>\n",
              "      <th>사건명</th>\n",
              "      <th>rate</th>\n",
              "    </tr>\n",
              "  </thead>\n",
              "  <tbody>\n",
              "    <tr>\n",
              "      <th>0</th>\n",
              "      <td>침수</td>\n",
              "      <td>5</td>\n",
              "      <td>12-16시</td>\n",
              "      <td>서해영해</td>\n",
              "      <td>미상</td>\n",
              "      <td>수상레저기구</td>\n",
              "      <td>레저보트 거북호 침수사건</td>\n",
              "      <td>1</td>\n",
              "    </tr>\n",
              "    <tr>\n",
              "      <th>1</th>\n",
              "      <td>충돌</td>\n",
              "      <td>3</td>\n",
              "      <td>0-4시</td>\n",
              "      <td>기타</td>\n",
              "      <td>미상</td>\n",
              "      <td>어선</td>\n",
              "      <td>어선 제212영남호, 중국어선 선명미상 충돌사건</td>\n",
              "      <td>1</td>\n",
              "    </tr>\n",
              "    <tr>\n",
              "      <th>2</th>\n",
              "      <td>충돌</td>\n",
              "      <td>11</td>\n",
              "      <td>20-24시</td>\n",
              "      <td>서해영해</td>\n",
              "      <td>미상</td>\n",
              "      <td>어선</td>\n",
              "      <td>어선 만성호 무등록선박 예천호 충돌사건</td>\n",
              "      <td>1</td>\n",
              "    </tr>\n",
              "    <tr>\n",
              "      <th>3</th>\n",
              "      <td>운항저해</td>\n",
              "      <td>5</td>\n",
              "      <td>4-8시</td>\n",
              "      <td>서해영해</td>\n",
              "      <td>미상</td>\n",
              "      <td>어선</td>\n",
              "      <td>어선 선명무 운항저해사건</td>\n",
              "      <td>1</td>\n",
              "    </tr>\n",
              "    <tr>\n",
              "      <th>4</th>\n",
              "      <td>기관손상</td>\n",
              "      <td>5</td>\n",
              "      <td>16-20시</td>\n",
              "      <td>서해영해</td>\n",
              "      <td>미상</td>\n",
              "      <td>수상레저기구</td>\n",
              "      <td>레저보트 서해킹호 기관손상사건</td>\n",
              "      <td>1</td>\n",
              "    </tr>\n",
              "  </tbody>\n",
              "</table>\n",
              "</div>"
            ],
            "text/plain": [
              "  해양사고종류(통계용)  해양사고발생(월) 해양사고발생시간대  ... 선박용도(통계용)                         사건명 rate\n",
              "0          침수          5    12-16시  ...    수상레저기구               레저보트 거북호 침수사건    1\n",
              "1          충돌          3      0-4시  ...        어선  어선 제212영남호, 중국어선 선명미상 충돌사건    1\n",
              "2          충돌         11    20-24시  ...        어선       어선 만성호 무등록선박 예천호 충돌사건    1\n",
              "3        운항저해          5      4-8시  ...        어선               어선 선명무 운항저해사건    1\n",
              "4        기관손상          5    16-20시  ...    수상레저기구            레저보트 서해킹호 기관손상사건    1\n",
              "\n",
              "[5 rows x 8 columns]"
            ]
          },
          "metadata": {
            "tags": []
          },
          "execution_count": 39
        }
      ]
    },
    {
      "cell_type": "code",
      "metadata": {
        "colab": {
          "base_uri": "https://localhost:8080/"
        },
        "id": "Tebl7VSGQEIT",
        "outputId": "575664ac-0832-4ad6-9fa1-645a30a6ade7"
      },
      "source": [
        "data['해양사고발생(월)'].head(2)"
      ],
      "execution_count": null,
      "outputs": [
        {
          "output_type": "execute_result",
          "data": {
            "text/plain": [
              "0    5\n",
              "1    3\n",
              "Name: 해양사고발생(월), dtype: int64"
            ]
          },
          "metadata": {
            "tags": []
          },
          "execution_count": 40
        }
      ]
    },
    {
      "cell_type": "code",
      "metadata": {
        "colab": {
          "base_uri": "https://localhost:8080/"
        },
        "id": "f7LEL3S5RGH1",
        "outputId": "708420e9-0e07-4573-f9c4-135eff02a0d3"
      },
      "source": [
        "data['해양사고발생시간대'].head(2)"
      ],
      "execution_count": null,
      "outputs": [
        {
          "output_type": "execute_result",
          "data": {
            "text/plain": [
              "0    12-16시\n",
              "1      0-4시\n",
              "Name: 해양사고발생시간대, dtype: object"
            ]
          },
          "metadata": {
            "tags": []
          },
          "execution_count": 41
        }
      ]
    },
    {
      "cell_type": "code",
      "metadata": {
        "id": "YIX_dA-eSD-K"
      },
      "source": [
        "from sklearn.feature_extraction.text import CountVectorizer"
      ],
      "execution_count": null,
      "outputs": []
    },
    {
      "cell_type": "code",
      "metadata": {
        "id": "C22bS_UfSiUQ"
      },
      "source": [
        "count_vector = CountVectorizer(ngram_range=(1,3))"
      ],
      "execution_count": null,
      "outputs": []
    },
    {
      "cell_type": "code",
      "metadata": {
        "id": "I-IvARk9VV8I"
      },
      "source": [
        "c_vector_time = count_vector.fit_transform(data['해양사고발생시간대'])"
      ],
      "execution_count": null,
      "outputs": []
    },
    {
      "cell_type": "code",
      "metadata": {
        "colab": {
          "base_uri": "https://localhost:8080/"
        },
        "id": "LTEnGBxtVohm",
        "outputId": "33d40686-08b1-4ea7-9e1a-4854d81b88b8"
      },
      "source": [
        "c_vector_time.shape"
      ],
      "execution_count": null,
      "outputs": [
        {
          "output_type": "execute_result",
          "data": {
            "text/plain": [
              "(15208, 12)"
            ]
          },
          "metadata": {
            "tags": []
          },
          "execution_count": 45
        }
      ]
    },
    {
      "cell_type": "code",
      "metadata": {
        "colab": {
          "base_uri": "https://localhost:8080/"
        },
        "id": "M-5v881gWLOT",
        "outputId": "1a332604-2b14-41e6-afad-f113d952eb04"
      },
      "source": [
        "c_vector_place = count_vector.fit_transform(data['해양사고발생지역(통계용)'])\n",
        "c_vector_place.shape"
      ],
      "execution_count": null,
      "outputs": [
        {
          "output_type": "execute_result",
          "data": {
            "text/plain": [
              "(15208, 72)"
            ]
          },
          "metadata": {
            "tags": []
          },
          "execution_count": 46
        }
      ]
    },
    {
      "cell_type": "code",
      "metadata": {
        "colab": {
          "base_uri": "https://localhost:8080/"
        },
        "id": "9mF1u36AWtSp",
        "outputId": "bc5298b8-9b04-4dc4-e8dc-2184890f4757"
      },
      "source": [
        "c_vector_tone = count_vector.fit_transform(data['톤수범위(통계용)'])\n",
        "c_vector_tone.shape"
      ],
      "execution_count": null,
      "outputs": [
        {
          "output_type": "execute_result",
          "data": {
            "text/plain": [
              "(15208, 52)"
            ]
          },
          "metadata": {
            "tags": []
          },
          "execution_count": 47
        }
      ]
    },
    {
      "cell_type": "code",
      "metadata": {
        "colab": {
          "base_uri": "https://localhost:8080/"
        },
        "id": "5EQFGM7oXCCQ",
        "outputId": "722be2f4-f7bd-4bef-b687-96946bd8e676"
      },
      "source": [
        "c_vector_usage = count_vector.fit_transform(data['선박용도(통계용)'])\n",
        "c_vector_usage.shape"
      ],
      "execution_count": null,
      "outputs": [
        {
          "output_type": "execute_result",
          "data": {
            "text/plain": [
              "(15208, 7)"
            ]
          },
          "metadata": {
            "tags": []
          },
          "execution_count": 48
        }
      ]
    },
    {
      "cell_type": "code",
      "metadata": {
        "colab": {
          "base_uri": "https://localhost:8080/"
        },
        "id": "Ju_Fd-ezXRRR",
        "outputId": "a539da1b-51a2-4412-f6c3-f1cb2302836a"
      },
      "source": [
        "c_vector_title = count_vector.fit_transform(data['사건명'])\n",
        "c_vector_title.shape"
      ],
      "execution_count": null,
      "outputs": [
        {
          "output_type": "execute_result",
          "data": {
            "text/plain": [
              "(15208, 46546)"
            ]
          },
          "metadata": {
            "tags": []
          },
          "execution_count": 50
        }
      ]
    },
    {
      "cell_type": "code",
      "metadata": {
        "id": "UEmzOBL9aar_"
      },
      "source": [
        "from sklearn.metrics.pairwise import cosine_similarity\n",
        "title_c_sim = cosine_similarity(c_vector_title, c_vector_title).argsort()[:,::-1]"
      ],
      "execution_count": null,
      "outputs": []
    },
    {
      "cell_type": "code",
      "metadata": {
        "colab": {
          "base_uri": "https://localhost:8080/"
        },
        "id": "y4W0RNSjhqv9",
        "outputId": "2db97831-5f3c-4269-e40e-6ebc8eb25d3c"
      },
      "source": [
        "title_c_sim.shape"
      ],
      "execution_count": null,
      "outputs": [
        {
          "output_type": "execute_result",
          "data": {
            "text/plain": [
              "(15208, 15208)"
            ]
          },
          "metadata": {
            "tags": []
          },
          "execution_count": 53
        }
      ]
    },
    {
      "cell_type": "code",
      "metadata": {
        "id": "fWzCGZHPhvPT"
      },
      "source": [
        "def get_recommend_type_list(df, accident_title, top=30):\n",
        "  target_type_index = df[df['사건명'] == accident_title].index.values\n",
        "\n",
        "  sim_index = title_c_sim[target_type_index, :top].reshape(-1)\n",
        "  sim_index = sim_index[sim_index != target_type_index]\n",
        "  result = df.iloc[sim_index]\n",
        "  return result"
      ],
      "execution_count": null,
      "outputs": []
    },
    {
      "cell_type": "code",
      "metadata": {
        "colab": {
          "base_uri": "https://localhost:8080/",
          "height": 1000
        },
        "id": "vTVuGLhrleiA",
        "outputId": "f0074088-bbfd-42b8-c155-07c5c4b25c4f"
      },
      "source": [
        "get_recommend_type_list(data, accident_title='어선 제72해영호 선원사망사건')"
      ],
      "execution_count": null,
      "outputs": [
        {
          "output_type": "execute_result",
          "data": {
            "text/html": [
              "<div>\n",
              "<style scoped>\n",
              "    .dataframe tbody tr th:only-of-type {\n",
              "        vertical-align: middle;\n",
              "    }\n",
              "\n",
              "    .dataframe tbody tr th {\n",
              "        vertical-align: top;\n",
              "    }\n",
              "\n",
              "    .dataframe thead th {\n",
              "        text-align: right;\n",
              "    }\n",
              "</style>\n",
              "<table border=\"1\" class=\"dataframe\">\n",
              "  <thead>\n",
              "    <tr style=\"text-align: right;\">\n",
              "      <th></th>\n",
              "      <th>해양사고종류(통계용)</th>\n",
              "      <th>해양사고발생(월)</th>\n",
              "      <th>해양사고발생시간대</th>\n",
              "      <th>해양사고발생지역(통계용)</th>\n",
              "      <th>톤수범위(통계용)</th>\n",
              "      <th>선박용도(통계용)</th>\n",
              "      <th>사건명</th>\n",
              "      <th>rate</th>\n",
              "    </tr>\n",
              "  </thead>\n",
              "  <tbody>\n",
              "    <tr>\n",
              "      <th>14815</th>\n",
              "      <td>화재 · 폭발</td>\n",
              "      <td>7</td>\n",
              "      <td>12-16시</td>\n",
              "      <td>목포항 및 진입수로</td>\n",
              "      <td>100~500톤미만</td>\n",
              "      <td>어선</td>\n",
              "      <td>어선 제72해영호 화재사건</td>\n",
              "      <td>1</td>\n",
              "    </tr>\n",
              "    <tr>\n",
              "      <th>1783</th>\n",
              "      <td>안전사고</td>\n",
              "      <td>3</td>\n",
              "      <td>8-12시</td>\n",
              "      <td>서해영해</td>\n",
              "      <td>5~10톤미만</td>\n",
              "      <td>어선</td>\n",
              "      <td>어선 제1태진호 선원사망사건</td>\n",
              "      <td>1</td>\n",
              "    </tr>\n",
              "    <tr>\n",
              "      <th>13954</th>\n",
              "      <td>안전사고</td>\n",
              "      <td>9</td>\n",
              "      <td>8-12시</td>\n",
              "      <td>동해공해</td>\n",
              "      <td>5~10톤미만</td>\n",
              "      <td>어선</td>\n",
              "      <td>어선 해명호 선원사망사건</td>\n",
              "      <td>1</td>\n",
              "    </tr>\n",
              "    <tr>\n",
              "      <th>1713</th>\n",
              "      <td>안전사고</td>\n",
              "      <td>2</td>\n",
              "      <td>16-20시</td>\n",
              "      <td>남해영해</td>\n",
              "      <td>5~10톤미만</td>\n",
              "      <td>어선</td>\n",
              "      <td>어선 제602대양호 선원사망사건</td>\n",
              "      <td>1</td>\n",
              "    </tr>\n",
              "    <tr>\n",
              "      <th>4376</th>\n",
              "      <td>안전사고</td>\n",
              "      <td>12</td>\n",
              "      <td>12-16시</td>\n",
              "      <td>남해영해</td>\n",
              "      <td>3~5톤미만</td>\n",
              "      <td>어선</td>\n",
              "      <td>어선 태양호 선원사망사건</td>\n",
              "      <td>1</td>\n",
              "    </tr>\n",
              "    <tr>\n",
              "      <th>2322</th>\n",
              "      <td>안전사고</td>\n",
              "      <td>6</td>\n",
              "      <td>8-12시</td>\n",
              "      <td>서해영해</td>\n",
              "      <td>5~10톤미만</td>\n",
              "      <td>어선</td>\n",
              "      <td>어선 삼영3호 선원사망사건</td>\n",
              "      <td>1</td>\n",
              "    </tr>\n",
              "    <tr>\n",
              "      <th>14022</th>\n",
              "      <td>안전사고</td>\n",
              "      <td>11</td>\n",
              "      <td>12-16시</td>\n",
              "      <td>서해영해</td>\n",
              "      <td>5~10톤미만</td>\n",
              "      <td>어선</td>\n",
              "      <td>어선 만성호 선원사망사건</td>\n",
              "      <td>1</td>\n",
              "    </tr>\n",
              "    <tr>\n",
              "      <th>1547</th>\n",
              "      <td>안전사고</td>\n",
              "      <td>11</td>\n",
              "      <td>12-16시</td>\n",
              "      <td>부산항 및 진입수로</td>\n",
              "      <td>5~10톤미만</td>\n",
              "      <td>어선</td>\n",
              "      <td>어선 준봉호 선원사망사건</td>\n",
              "      <td>1</td>\n",
              "    </tr>\n",
              "    <tr>\n",
              "      <th>10952</th>\n",
              "      <td>안전사고</td>\n",
              "      <td>11</td>\n",
              "      <td>16-20시</td>\n",
              "      <td>서해영해</td>\n",
              "      <td>5~10톤미만</td>\n",
              "      <td>어선</td>\n",
              "      <td>어선 민성1호 선원사망사건</td>\n",
              "      <td>1</td>\n",
              "    </tr>\n",
              "    <tr>\n",
              "      <th>13995</th>\n",
              "      <td>안전사고</td>\n",
              "      <td>10</td>\n",
              "      <td>20-24시</td>\n",
              "      <td>서해영해</td>\n",
              "      <td>5~10톤미만</td>\n",
              "      <td>어선</td>\n",
              "      <td>어선 금강3호 선원사망사건</td>\n",
              "      <td>1</td>\n",
              "    </tr>\n",
              "    <tr>\n",
              "      <th>11434</th>\n",
              "      <td>안전사고</td>\n",
              "      <td>10</td>\n",
              "      <td>8-12시</td>\n",
              "      <td>서해영해</td>\n",
              "      <td>50~100톤미만</td>\n",
              "      <td>어선</td>\n",
              "      <td>어선 제97길영호 선원사망사건</td>\n",
              "      <td>1</td>\n",
              "    </tr>\n",
              "    <tr>\n",
              "      <th>13981</th>\n",
              "      <td>안전사고</td>\n",
              "      <td>9</td>\n",
              "      <td>4-8시</td>\n",
              "      <td>동해영해</td>\n",
              "      <td>5~10톤미만</td>\n",
              "      <td>어선</td>\n",
              "      <td>어선 남진호 선원사망사건</td>\n",
              "      <td>1</td>\n",
              "    </tr>\n",
              "    <tr>\n",
              "      <th>9535</th>\n",
              "      <td>안전사고</td>\n",
              "      <td>9</td>\n",
              "      <td>20-24시</td>\n",
              "      <td>서해영해</td>\n",
              "      <td>5~10톤미만</td>\n",
              "      <td>어선</td>\n",
              "      <td>어선 선영호 선원사망사건</td>\n",
              "      <td>1</td>\n",
              "    </tr>\n",
              "    <tr>\n",
              "      <th>6957</th>\n",
              "      <td>안전사고</td>\n",
              "      <td>4</td>\n",
              "      <td>12-16시</td>\n",
              "      <td>기타</td>\n",
              "      <td>500~1,000톤미만</td>\n",
              "      <td>어선</td>\n",
              "      <td>어선 그린스타호 선원사망사건</td>\n",
              "      <td>1</td>\n",
              "    </tr>\n",
              "    <tr>\n",
              "      <th>14628</th>\n",
              "      <td>안전사고</td>\n",
              "      <td>1</td>\n",
              "      <td>4-8시</td>\n",
              "      <td>서해공해</td>\n",
              "      <td>25~30톤미만</td>\n",
              "      <td>어선</td>\n",
              "      <td>어선 한성호 선원사망사건</td>\n",
              "      <td>1</td>\n",
              "    </tr>\n",
              "    <tr>\n",
              "      <th>7908</th>\n",
              "      <td>안전사고</td>\n",
              "      <td>4</td>\n",
              "      <td>16-20시</td>\n",
              "      <td>남해영해</td>\n",
              "      <td>1~2톤미만</td>\n",
              "      <td>어선</td>\n",
              "      <td>어선 제일호 선원사망사건</td>\n",
              "      <td>1</td>\n",
              "    </tr>\n",
              "    <tr>\n",
              "      <th>4554</th>\n",
              "      <td>안전사고</td>\n",
              "      <td>3</td>\n",
              "      <td>4-8시</td>\n",
              "      <td>동해영해</td>\n",
              "      <td>15~20톤미만</td>\n",
              "      <td>어선</td>\n",
              "      <td>어선 제52진광호 선원사망사건</td>\n",
              "      <td>1</td>\n",
              "    </tr>\n",
              "    <tr>\n",
              "      <th>14961</th>\n",
              "      <td>안전사고</td>\n",
              "      <td>11</td>\n",
              "      <td>12-16시</td>\n",
              "      <td>남해공해</td>\n",
              "      <td>100~500톤미만</td>\n",
              "      <td>어선</td>\n",
              "      <td>어선 제2015영신호 선원사망사건</td>\n",
              "      <td>1</td>\n",
              "    </tr>\n",
              "    <tr>\n",
              "      <th>13950</th>\n",
              "      <td>안전사고</td>\n",
              "      <td>2</td>\n",
              "      <td>20-24시</td>\n",
              "      <td>남해공해</td>\n",
              "      <td>50~100톤미만</td>\n",
              "      <td>어선</td>\n",
              "      <td>어선 309부영호 선원사망사건</td>\n",
              "      <td>1</td>\n",
              "    </tr>\n",
              "    <tr>\n",
              "      <th>13158</th>\n",
              "      <td>안전사고</td>\n",
              "      <td>10</td>\n",
              "      <td>8-12시</td>\n",
              "      <td>서해영해</td>\n",
              "      <td>5~10톤미만</td>\n",
              "      <td>어선</td>\n",
              "      <td>어선 승원호 선원사망사건</td>\n",
              "      <td>1</td>\n",
              "    </tr>\n",
              "    <tr>\n",
              "      <th>900</th>\n",
              "      <td>안전사고</td>\n",
              "      <td>5</td>\n",
              "      <td>8-12시</td>\n",
              "      <td>서해영해</td>\n",
              "      <td>3~5톤미만</td>\n",
              "      <td>어선</td>\n",
              "      <td>어선 금잔디호 선원사망사건</td>\n",
              "      <td>1</td>\n",
              "    </tr>\n",
              "    <tr>\n",
              "      <th>2814</th>\n",
              "      <td>안전사고</td>\n",
              "      <td>10</td>\n",
              "      <td>4-8시</td>\n",
              "      <td>남해영해</td>\n",
              "      <td>2~3톤미만</td>\n",
              "      <td>어선</td>\n",
              "      <td>어선 신경호 선원사망사건</td>\n",
              "      <td>1</td>\n",
              "    </tr>\n",
              "    <tr>\n",
              "      <th>2271</th>\n",
              "      <td>안전사고</td>\n",
              "      <td>4</td>\n",
              "      <td>20-24시</td>\n",
              "      <td>동해공해</td>\n",
              "      <td>5~10톤미만</td>\n",
              "      <td>어선</td>\n",
              "      <td>어선 제502남양호 선원사망사건</td>\n",
              "      <td>1</td>\n",
              "    </tr>\n",
              "    <tr>\n",
              "      <th>9515</th>\n",
              "      <td>안전사고</td>\n",
              "      <td>6</td>\n",
              "      <td>8-12시</td>\n",
              "      <td>서해영해</td>\n",
              "      <td>5~10톤미만</td>\n",
              "      <td>어선</td>\n",
              "      <td>어선 영창호 선원사망사건</td>\n",
              "      <td>1</td>\n",
              "    </tr>\n",
              "    <tr>\n",
              "      <th>14641</th>\n",
              "      <td>안전사고</td>\n",
              "      <td>8</td>\n",
              "      <td>8-12시</td>\n",
              "      <td>서해영해</td>\n",
              "      <td>25~30톤미만</td>\n",
              "      <td>어선</td>\n",
              "      <td>어선 제205동경호 선원사망사건</td>\n",
              "      <td>1</td>\n",
              "    </tr>\n",
              "    <tr>\n",
              "      <th>7703</th>\n",
              "      <td>안전사고</td>\n",
              "      <td>8</td>\n",
              "      <td>4-8시</td>\n",
              "      <td>남해영해</td>\n",
              "      <td>1~2톤미만</td>\n",
              "      <td>어선</td>\n",
              "      <td>어선 용성2호 선원사망사건</td>\n",
              "      <td>1</td>\n",
              "    </tr>\n",
              "    <tr>\n",
              "      <th>14643</th>\n",
              "      <td>안전사고</td>\n",
              "      <td>10</td>\n",
              "      <td>12-16시</td>\n",
              "      <td>서해영해</td>\n",
              "      <td>50~100톤미만</td>\n",
              "      <td>어선</td>\n",
              "      <td>어선 제9008신광호 선원사망사건</td>\n",
              "      <td>1</td>\n",
              "    </tr>\n",
              "    <tr>\n",
              "      <th>383</th>\n",
              "      <td>안전사고</td>\n",
              "      <td>10</td>\n",
              "      <td>16-20시</td>\n",
              "      <td>부산항 및 진입수로</td>\n",
              "      <td>1~2톤미만</td>\n",
              "      <td>어선</td>\n",
              "      <td>어선 동운호 선원사망사건</td>\n",
              "      <td>1</td>\n",
              "    </tr>\n",
              "    <tr>\n",
              "      <th>13895</th>\n",
              "      <td>안전사고</td>\n",
              "      <td>4</td>\n",
              "      <td>8-12시</td>\n",
              "      <td>기타개항</td>\n",
              "      <td>50~100톤미만</td>\n",
              "      <td>어선</td>\n",
              "      <td>어선 제27세길호 선원사망사건</td>\n",
              "      <td>1</td>\n",
              "    </tr>\n",
              "  </tbody>\n",
              "</table>\n",
              "</div>"
            ],
            "text/plain": [
              "      해양사고종류(통계용)  해양사고발생(월) 해양사고발생시간대  ... 선박용도(통계용)                 사건명 rate\n",
              "14815     화재 · 폭발          7    12-16시  ...        어선      어선 제72해영호 화재사건    1\n",
              "1783         안전사고          3     8-12시  ...        어선     어선 제1태진호 선원사망사건    1\n",
              "13954        안전사고          9     8-12시  ...        어선       어선 해명호 선원사망사건    1\n",
              "1713         안전사고          2    16-20시  ...        어선   어선 제602대양호 선원사망사건    1\n",
              "4376         안전사고         12    12-16시  ...        어선       어선 태양호 선원사망사건    1\n",
              "2322         안전사고          6     8-12시  ...        어선      어선 삼영3호 선원사망사건    1\n",
              "14022        안전사고         11    12-16시  ...        어선       어선 만성호 선원사망사건    1\n",
              "1547         안전사고         11    12-16시  ...        어선       어선 준봉호 선원사망사건    1\n",
              "10952        안전사고         11    16-20시  ...        어선      어선 민성1호 선원사망사건    1\n",
              "13995        안전사고         10    20-24시  ...        어선      어선 금강3호 선원사망사건    1\n",
              "11434        안전사고         10     8-12시  ...        어선    어선 제97길영호 선원사망사건    1\n",
              "13981        안전사고          9      4-8시  ...        어선       어선 남진호 선원사망사건    1\n",
              "9535         안전사고          9    20-24시  ...        어선       어선 선영호 선원사망사건    1\n",
              "6957         안전사고          4    12-16시  ...        어선     어선 그린스타호 선원사망사건    1\n",
              "14628        안전사고          1      4-8시  ...        어선       어선 한성호 선원사망사건    1\n",
              "7908         안전사고          4    16-20시  ...        어선       어선 제일호 선원사망사건    1\n",
              "4554         안전사고          3      4-8시  ...        어선    어선 제52진광호 선원사망사건    1\n",
              "14961        안전사고         11    12-16시  ...        어선  어선 제2015영신호 선원사망사건    1\n",
              "13950        안전사고          2    20-24시  ...        어선    어선 309부영호 선원사망사건    1\n",
              "13158        안전사고         10     8-12시  ...        어선       어선 승원호 선원사망사건    1\n",
              "900          안전사고          5     8-12시  ...        어선      어선 금잔디호 선원사망사건    1\n",
              "2814         안전사고         10      4-8시  ...        어선       어선 신경호 선원사망사건    1\n",
              "2271         안전사고          4    20-24시  ...        어선   어선 제502남양호 선원사망사건    1\n",
              "9515         안전사고          6     8-12시  ...        어선       어선 영창호 선원사망사건    1\n",
              "14641        안전사고          8     8-12시  ...        어선   어선 제205동경호 선원사망사건    1\n",
              "7703         안전사고          8      4-8시  ...        어선      어선 용성2호 선원사망사건    1\n",
              "14643        안전사고         10    12-16시  ...        어선  어선 제9008신광호 선원사망사건    1\n",
              "383          안전사고         10    16-20시  ...        어선       어선 동운호 선원사망사건    1\n",
              "13895        안전사고          4     8-12시  ...        어선    어선 제27세길호 선원사망사건    1\n",
              "\n",
              "[29 rows x 8 columns]"
            ]
          },
          "metadata": {
            "tags": []
          },
          "execution_count": 60
        }
      ]
    }
  ]
}