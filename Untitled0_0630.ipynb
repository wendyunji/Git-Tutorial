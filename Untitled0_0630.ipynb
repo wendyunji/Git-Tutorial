{
  "nbformat": 4,
  "nbformat_minor": 0,
  "metadata": {
    "colab": {
      "name": "Untitled0.ipynb",
      "provenance": [],
      "authorship_tag": "ABX9TyOgkCs608rVFCbFeOxAhNrl",
      "include_colab_link": true
    },
    "kernelspec": {
      "name": "python3",
      "display_name": "Python 3"
    },
    "language_info": {
      "name": "python"
    },
    "accelerator": "GPU"
  },
  "cells": [
    {
      "cell_type": "markdown",
      "metadata": {
        "id": "view-in-github",
        "colab_type": "text"
      },
      "source": [
        "<a href=\"https://colab.research.google.com/github/wendyunji/Git-Tutorial/blob/master/Untitled0_0630.ipynb\" target=\"_parent\"><img src=\"https://colab.research.google.com/assets/colab-badge.svg\" alt=\"Open In Colab\"/></a>"
      ]
    },
    {
      "cell_type": "code",
      "metadata": {
        "colab": {
          "resources": {
            "http://localhost:8080/nbextensions/google.colab/files.js": {
              "data": "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",
              "ok": true,
              "headers": [
                [
                  "content-type",
                  "application/javascript"
                ]
              ],
              "status": 200,
              "status_text": ""
            }
          },
          "base_uri": "https://localhost:8080/",
          "height": 41
        },
        "id": "nnXS6-ICYBWI",
        "outputId": "a31def9e-784c-4538-e369-c35283307476"
      },
      "source": [
        "#파일 직접 업로드하기\n",
        "from google.colab import files\n",
        "myfile = files.upload()"
      ],
      "execution_count": 12,
      "outputs": [
        {
          "output_type": "display_data",
          "data": {
            "text/html": [
              "\n",
              "     <input type=\"file\" id=\"files-1a8a3db0-2823-42cd-90e0-788d0aadb559\" name=\"files[]\" multiple disabled\n",
              "        style=\"border:none\" />\n",
              "     <output id=\"result-1a8a3db0-2823-42cd-90e0-788d0aadb559\">\n",
              "      Upload widget is only available when the cell has been executed in the\n",
              "      current browser session. Please rerun this cell to enable.\n",
              "      </output>\n",
              "      <script src=\"/nbextensions/google.colab/files.js\"></script> "
            ],
            "text/plain": [
              "<IPython.core.display.HTML object>"
            ]
          },
          "metadata": {
            "tags": []
          }
        }
      ]
    },
    {
      "cell_type": "code",
      "metadata": {
        "colab": {
          "base_uri": "https://localhost:8080/",
          "height": 204
        },
        "id": "uYrVc7qJZ-m_",
        "outputId": "ace28cf9-9ced-466b-cb40-b7f965eb559c"
      },
      "source": [
        "import io\n",
        "import pandas as pd\n",
        "\n",
        "data = pd.read_csv('accident_dataset.csv',encoding='UTF-8')\n",
        "data.head()"
      ],
      "execution_count": 2,
      "outputs": [
        {
          "output_type": "execute_result",
          "data": {
            "text/html": [
              "<div>\n",
              "<style scoped>\n",
              "    .dataframe tbody tr th:only-of-type {\n",
              "        vertical-align: middle;\n",
              "    }\n",
              "\n",
              "    .dataframe tbody tr th {\n",
              "        vertical-align: top;\n",
              "    }\n",
              "\n",
              "    .dataframe thead th {\n",
              "        text-align: right;\n",
              "    }\n",
              "</style>\n",
              "<table border=\"1\" class=\"dataframe\">\n",
              "  <thead>\n",
              "    <tr style=\"text-align: right;\">\n",
              "      <th></th>\n",
              "      <th>사건명</th>\n",
              "    </tr>\n",
              "  </thead>\n",
              "  <tbody>\n",
              "    <tr>\n",
              "      <th>0</th>\n",
              "      <td>레저보트 거북호 침수사건 [ 서해영해 0톤 5월 12-16시 ]</td>\n",
              "    </tr>\n",
              "    <tr>\n",
              "      <th>1</th>\n",
              "      <td>어선 제212영남호, 중국어선 선명미상 충돌사건 [ 기타 0톤 3월 0-4시 ]</td>\n",
              "    </tr>\n",
              "    <tr>\n",
              "      <th>2</th>\n",
              "      <td>어선 만성호 무등록선박 예천호 충돌사건 [ 서해영해 0톤 11월 20-24시 ]</td>\n",
              "    </tr>\n",
              "    <tr>\n",
              "      <th>3</th>\n",
              "      <td>어선 선명무 운항저해사건 [ 서해영해 0톤 5월 4-8시 ]</td>\n",
              "    </tr>\n",
              "    <tr>\n",
              "      <th>4</th>\n",
              "      <td>레저보트 서해킹호 기관손상사건 [ 서해영해 0톤 5월 16-20시 ]</td>\n",
              "    </tr>\n",
              "  </tbody>\n",
              "</table>\n",
              "</div>"
            ],
            "text/plain": [
              "                                             사건명\n",
              "0           레저보트 거북호 침수사건 [ 서해영해 0톤 5월 12-16시 ] \n",
              "1  어선 제212영남호, 중국어선 선명미상 충돌사건 [ 기타 0톤 3월 0-4시 ] \n",
              "2  어선 만성호 무등록선박 예천호 충돌사건 [ 서해영해 0톤 11월 20-24시 ] \n",
              "3             어선 선명무 운항저해사건 [ 서해영해 0톤 5월 4-8시 ] \n",
              "4        레저보트 서해킹호 기관손상사건 [ 서해영해 0톤 5월 16-20시 ] "
            ]
          },
          "metadata": {
            "tags": []
          },
          "execution_count": 2
        }
      ]
    },
    {
      "cell_type": "code",
      "metadata": {
        "id": "AD5zOeqLayPY"
      },
      "source": [
        "from sklearn.feature_extraction.text import CountVectorizer"
      ],
      "execution_count": 3,
      "outputs": []
    },
    {
      "cell_type": "code",
      "metadata": {
        "id": "kznTnoDma3-P"
      },
      "source": [
        "count_vector = CountVectorizer(ngram_range=(1,3))"
      ],
      "execution_count": 4,
      "outputs": []
    },
    {
      "cell_type": "code",
      "metadata": {
        "id": "Q8C-sFkSa74u"
      },
      "source": [
        "c_vector_title = count_vector.fit_transform(data['사건명'])"
      ],
      "execution_count": 5,
      "outputs": []
    },
    {
      "cell_type": "code",
      "metadata": {
        "colab": {
          "base_uri": "https://localhost:8080/"
        },
        "id": "u4-7AS3ReOjQ",
        "outputId": "40d76d93-719a-4c7b-a5d1-84a57f5cbee3"
      },
      "source": [
        "c_vector_title.shape"
      ],
      "execution_count": 6,
      "outputs": [
        {
          "output_type": "execute_result",
          "data": {
            "text/plain": [
              "(15208, 83914)"
            ]
          },
          "metadata": {
            "tags": []
          },
          "execution_count": 6
        }
      ]
    },
    {
      "cell_type": "code",
      "metadata": {
        "id": "RTKNNc0Ya_82"
      },
      "source": [
        "from sklearn.metrics.pairwise import cosine_similarity"
      ],
      "execution_count": 7,
      "outputs": []
    },
    {
      "cell_type": "code",
      "metadata": {
        "id": "0yEd8Jk6eVc3"
      },
      "source": [
        "title_c_sim = cosine_similarity(c_vector_title, c_vector_title).argsort()[:,::-1]"
      ],
      "execution_count": 8,
      "outputs": []
    },
    {
      "cell_type": "code",
      "metadata": {
        "colab": {
          "base_uri": "https://localhost:8080/"
        },
        "id": "vGPmJx21jJc1",
        "outputId": "583b82ef-ee69-4f92-ee2e-38ade7d32fcd"
      },
      "source": [
        "title_c_sim.shape"
      ],
      "execution_count": 9,
      "outputs": [
        {
          "output_type": "execute_result",
          "data": {
            "text/plain": [
              "(15208, 15208)"
            ]
          },
          "metadata": {
            "tags": []
          },
          "execution_count": 9
        }
      ]
    },
    {
      "cell_type": "code",
      "metadata": {
        "id": "JIv2ItdSjOrp"
      },
      "source": [
        "def get_recommend_type_list(df, accident_title, top=30):\n",
        "  target_type_index = df[df['사건명'] == accident_title].index.values\n",
        "\n",
        "  sim_index = title_c_sim[target_type_index, :top].reshape(-1)\n",
        "  sim_index = sim_index[sim_index != target_type_index]\n",
        "  result = df.iloc[sim_index]\n",
        "  return result"
      ],
      "execution_count": 10,
      "outputs": []
    },
    {
      "cell_type": "code",
      "metadata": {
        "colab": {
          "base_uri": "https://localhost:8080/",
          "height": 945
        },
        "id": "RhMHw9CgjRAy",
        "outputId": "63b09532-3e6e-4393-a59b-438a1370b10a"
      },
      "source": [
        "get_recommend_type_list(data, accident_title='원양어선 세종 기관손상사건 [ 개항 및 진입수로 7765톤 12월 20-24시 ] ')"
      ],
      "execution_count": 11,
      "outputs": [
        {
          "output_type": "execute_result",
          "data": {
            "text/html": [
              "<div>\n",
              "<style scoped>\n",
              "    .dataframe tbody tr th:only-of-type {\n",
              "        vertical-align: middle;\n",
              "    }\n",
              "\n",
              "    .dataframe tbody tr th {\n",
              "        vertical-align: top;\n",
              "    }\n",
              "\n",
              "    .dataframe thead th {\n",
              "        text-align: right;\n",
              "    }\n",
              "</style>\n",
              "<table border=\"1\" class=\"dataframe\">\n",
              "  <thead>\n",
              "    <tr style=\"text-align: right;\">\n",
              "      <th></th>\n",
              "      <th>사건명</th>\n",
              "    </tr>\n",
              "  </thead>\n",
              "  <tbody>\n",
              "    <tr>\n",
              "      <th>6100</th>\n",
              "      <td>동력요트 아라리호 기관손상사건 [ 개항 및 진입수로 2.6톤 12월 20-24시 ]</td>\n",
              "    </tr>\n",
              "    <tr>\n",
              "      <th>14858</th>\n",
              "      <td>컨테이너운반선 마티나호 기관손상사건 [ 개항 및 진입수로 42020톤 12월 20-...</td>\n",
              "    </tr>\n",
              "    <tr>\n",
              "      <th>15126</th>\n",
              "      <td>원양어선 큐레이터 기관손상사건 [ 개항 및 진입수로 655톤 8월 20-24시 ]</td>\n",
              "    </tr>\n",
              "    <tr>\n",
              "      <th>3040</th>\n",
              "      <td>어선 가림호 기관손상사건 [ 개항 및 진입수로 2.95톤 10월 20-24시 ]</td>\n",
              "    </tr>\n",
              "    <tr>\n",
              "      <th>5787</th>\n",
              "      <td>모터보트 씨 블루 기관손상사건 [ 개항 및 진입수로 2.4톤 7월 20-24시 ]</td>\n",
              "    </tr>\n",
              "    <tr>\n",
              "      <th>12414</th>\n",
              "      <td>석유제품운반선 삼진1호 기관손상사건 [ 개항 및 진입수로 890톤 6월 20-24시 ]</td>\n",
              "    </tr>\n",
              "    <tr>\n",
              "      <th>12782</th>\n",
              "      <td>어선 제388우림호 기관손상사건 [ 개항 및 진입수로 29톤 9월 20-24시 ]</td>\n",
              "    </tr>\n",
              "    <tr>\n",
              "      <th>4489</th>\n",
              "      <td>낚시어선 강성호 기관손상사건 [ 개항 및 진입수로 3.7톤 9월 20-24시 ]</td>\n",
              "    </tr>\n",
              "    <tr>\n",
              "      <th>10356</th>\n",
              "      <td>낚시어선 왕돌포세이돈 운항저해사건 [ 개항 및 진입수로 9.77톤 12월 20-24...</td>\n",
              "    </tr>\n",
              "    <tr>\n",
              "      <th>10987</th>\n",
              "      <td>낚시어선 제6광구호 기관손상사건 [ 개항 및 진입수로 9.77톤 11월 20-24시 ]</td>\n",
              "    </tr>\n",
              "    <tr>\n",
              "      <th>4187</th>\n",
              "      <td>모터보트 폴라리스 기관손상사건 [ 개항 및 진입수로 1.5톤 9월 20-24시 ]</td>\n",
              "    </tr>\n",
              "    <tr>\n",
              "      <th>3786</th>\n",
              "      <td>모터보트 재영호 기관손상사건 [ 개항 및 진입수로 1.3톤 6월 20-24시 ]</td>\n",
              "    </tr>\n",
              "    <tr>\n",
              "      <th>3499</th>\n",
              "      <td>낚시어선 선경호 기관손상사건 [ 개항 및 진입수로 3톤 4월 20-24시 ]</td>\n",
              "    </tr>\n",
              "    <tr>\n",
              "      <th>3050</th>\n",
              "      <td>어선 해신호 기관손상사건 [ 개항 및 진입수로 2.96톤 7월 20-24시 ]</td>\n",
              "    </tr>\n",
              "    <tr>\n",
              "      <th>9361</th>\n",
              "      <td>예인선 경남호 기관손상사건 [ 개항 및 진입수로 40톤 4월 20-24시 ]</td>\n",
              "    </tr>\n",
              "    <tr>\n",
              "      <th>11771</th>\n",
              "      <td>유람선 훼밀리호 화재사건 [ 개항 및 진입수로 438톤 12월 20-24시 ]</td>\n",
              "    </tr>\n",
              "    <tr>\n",
              "      <th>7712</th>\n",
              "      <td>동력보트 레인보우 기관손상사건 [ 개항 및 진입수로 6.1톤 8월 20-24시 ]</td>\n",
              "    </tr>\n",
              "    <tr>\n",
              "      <th>7535</th>\n",
              "      <td>세일링요트 셀바호 기관손상사건 [ 개항 및 진입수로 5톤 6월 20-24시 ]</td>\n",
              "    </tr>\n",
              "    <tr>\n",
              "      <th>2365</th>\n",
              "      <td>어선 해양호 기관손상사건 [ 개항 및 진입수로 2.34톤 6월 20-24시 ]</td>\n",
              "    </tr>\n",
              "    <tr>\n",
              "      <th>9663</th>\n",
              "      <td>예인선 202대경호 기관손상사건 [ 개항 및 진입수로 60톤 9월 20-24시 ]</td>\n",
              "    </tr>\n",
              "    <tr>\n",
              "      <th>1562</th>\n",
              "      <td>어선 명진2호 전복사건 [ 개항 및 진입수로 1.71톤 12월 20-24시 ]</td>\n",
              "    </tr>\n",
              "    <tr>\n",
              "      <th>1325</th>\n",
              "      <td>어선 성광호 부유물감김사건 [ 개항 및 진입수로 1.52톤 12월 20-24시 ]</td>\n",
              "    </tr>\n",
              "    <tr>\n",
              "      <th>14537</th>\n",
              "      <td>어선 제55금창호 기관손상사건 [ 개항 및 진입수로 84톤 10월 20-24시 ]</td>\n",
              "    </tr>\n",
              "    <tr>\n",
              "      <th>1301</th>\n",
              "      <td>어선 성공호 기관손상사건 [ 개항 및 진입수로 1.5톤 11월 20-24시 ]</td>\n",
              "    </tr>\n",
              "    <tr>\n",
              "      <th>1202</th>\n",
              "      <td>어선 금동호 기관손상사건 [ 개항 및 진입수로 1.42톤 11월 20-24시 ]</td>\n",
              "    </tr>\n",
              "    <tr>\n",
              "      <th>872</th>\n",
              "      <td>어선 복동호 기관손상사건 [ 개항 및 진입수로 1.21톤 11월 20-24시 ]</td>\n",
              "    </tr>\n",
              "    <tr>\n",
              "      <th>884</th>\n",
              "      <td>어선 복동호 기관손상사건 [ 개항 및 진입수로 1.21톤 6월 20-24시 ]</td>\n",
              "    </tr>\n",
              "    <tr>\n",
              "      <th>8254</th>\n",
              "      <td>통선 백조3호 기관손상사건 [ 개항 및 진입수로 11톤 4월 20-24시 ]</td>\n",
              "    </tr>\n",
              "    <tr>\n",
              "      <th>14732</th>\n",
              "      <td>어선 제7해광호 기관손상사건 [ 개항 및 진입수로 98톤 9월 20-24시 ]</td>\n",
              "    </tr>\n",
              "  </tbody>\n",
              "</table>\n",
              "</div>"
            ],
            "text/plain": [
              "                                                     사건명\n",
              "6100     동력요트 아라리호 기관손상사건 [ 개항 및 진입수로 2.6톤 12월 20-24시 ] \n",
              "14858  컨테이너운반선 마티나호 기관손상사건 [ 개항 및 진입수로 42020톤 12월 20-...\n",
              "15126     원양어선 큐레이터 기관손상사건 [ 개항 및 진입수로 655톤 8월 20-24시 ] \n",
              "3040       어선 가림호 기관손상사건 [ 개항 및 진입수로 2.95톤 10월 20-24시 ] \n",
              "5787      모터보트 씨 블루 기관손상사건 [ 개항 및 진입수로 2.4톤 7월 20-24시 ] \n",
              "12414  석유제품운반선 삼진1호 기관손상사건 [ 개항 및 진입수로 890톤 6월 20-24시 ] \n",
              "12782     어선 제388우림호 기관손상사건 [ 개항 및 진입수로 29톤 9월 20-24시 ] \n",
              "4489       낚시어선 강성호 기관손상사건 [ 개항 및 진입수로 3.7톤 9월 20-24시 ] \n",
              "10356  낚시어선 왕돌포세이돈 운항저해사건 [ 개항 및 진입수로 9.77톤 12월 20-24...\n",
              "10987  낚시어선 제6광구호 기관손상사건 [ 개항 및 진입수로 9.77톤 11월 20-24시 ] \n",
              "4187      모터보트 폴라리스 기관손상사건 [ 개항 및 진입수로 1.5톤 9월 20-24시 ] \n",
              "3786       모터보트 재영호 기관손상사건 [ 개항 및 진입수로 1.3톤 6월 20-24시 ] \n",
              "3499         낚시어선 선경호 기관손상사건 [ 개항 및 진입수로 3톤 4월 20-24시 ] \n",
              "3050        어선 해신호 기관손상사건 [ 개항 및 진입수로 2.96톤 7월 20-24시 ] \n",
              "9361         예인선 경남호 기관손상사건 [ 개항 및 진입수로 40톤 4월 20-24시 ] \n",
              "11771       유람선 훼밀리호 화재사건 [ 개항 및 진입수로 438톤 12월 20-24시 ] \n",
              "7712      동력보트 레인보우 기관손상사건 [ 개항 및 진입수로 6.1톤 8월 20-24시 ] \n",
              "7535        세일링요트 셀바호 기관손상사건 [ 개항 및 진입수로 5톤 6월 20-24시 ] \n",
              "2365        어선 해양호 기관손상사건 [ 개항 및 진입수로 2.34톤 6월 20-24시 ] \n",
              "9663      예인선 202대경호 기관손상사건 [ 개항 및 진입수로 60톤 9월 20-24시 ] \n",
              "1562        어선 명진2호 전복사건 [ 개항 및 진입수로 1.71톤 12월 20-24시 ] \n",
              "1325      어선 성광호 부유물감김사건 [ 개항 및 진입수로 1.52톤 12월 20-24시 ] \n",
              "14537     어선 제55금창호 기관손상사건 [ 개항 및 진입수로 84톤 10월 20-24시 ] \n",
              "1301        어선 성공호 기관손상사건 [ 개항 및 진입수로 1.5톤 11월 20-24시 ] \n",
              "1202       어선 금동호 기관손상사건 [ 개항 및 진입수로 1.42톤 11월 20-24시 ] \n",
              "872        어선 복동호 기관손상사건 [ 개항 및 진입수로 1.21톤 11월 20-24시 ] \n",
              "884         어선 복동호 기관손상사건 [ 개항 및 진입수로 1.21톤 6월 20-24시 ] \n",
              "8254         통선 백조3호 기관손상사건 [ 개항 및 진입수로 11톤 4월 20-24시 ] \n",
              "14732       어선 제7해광호 기관손상사건 [ 개항 및 진입수로 98톤 9월 20-24시 ] "
            ]
          },
          "metadata": {
            "tags": []
          },
          "execution_count": 11
        }
      ]
    }
  ]
}